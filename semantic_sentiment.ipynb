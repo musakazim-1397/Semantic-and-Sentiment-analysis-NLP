{
 "cells": [
  {
   "cell_type": "code",
   "execution_count": null,
   "metadata": {},
   "outputs": [],
   "source": [
    "#for semantics and sentiment analysis, you need to install the medium or lage \"en_core_web_md/lg\"\n",
    "#it uses Word2Vec which is a 2 layer neural net and is able to make highly accurate guesses\n",
    "# eg: 'man' is to 'boy' as 'woman' is to 'girl'\n",
    "# we used sklearn feature extraction to extract and classify text\n",
    "#but for Semantics and Sentiment analysis we will use spacy"
   ]
  },
  {
   "cell_type": "code",
   "execution_count": 1,
   "metadata": {},
   "outputs": [
    {
     "data": {
      "text/plain": [
       "array([  1.2746  ,   0.46242 ,  -1.1829  ,  -5.2661  ,  -2.7128  ,\n",
       "         1.8521  ,  -0.94273 ,   2.1865  ,   6.503   ,   0.6704  ,\n",
       "         1.5361  ,   2.5992  ,  -0.36233 ,   4.3965  ,  -6.5644  ,\n",
       "         1.6141  ,  -1.2897  ,   2.1184  ,  -0.63654 ,  -3.4572  ,\n",
       "        -4.3771  ,   4.2074  ,  -3.6411  ,  -0.97214 ,   1.3253  ,\n",
       "        -2.3125  ,  -3.6531  ,  -2.8398  ,   2.7913  ,  -1.53    ,\n",
       "        -2.9984  ,  -2.6357  ,   0.50615 ,  -2.6925  ,   4.3401  ,\n",
       "        -5.6017  ,   0.045691,   4.3832  ,  -0.19535 ,  -1.0751  ,\n",
       "         0.32172 ,   2.4395  ,   4.6638  ,   3.4471  ,  -3.3847  ,\n",
       "        -1.8238  ,   0.70212 ,   0.58557 ,   5.0032  ,  -3.1072  ,\n",
       "         1.2364  ,   7.4595  ,   0.057368,   1.0111  ,  -1.0827  ,\n",
       "         0.69113 ,   2.8009  ,  -3.4383  ,  -1.0599  ,  -2.2627  ,\n",
       "        -5.149   ,  -5.0636  ,   3.1405  ,   1.0793  ,  -0.72892 ,\n",
       "        -3.9939  ,  -0.69551 ,  -0.55767 ,   3.2555  ,  -2.9449  ,\n",
       "         4.7114  ,   1.6388  ,   1.3828  ,   1.4255  ,  -3.2334  ,\n",
       "        -2.274   ,  -1.8136  ,   2.2966  ,   2.5462  ,   1.0722  ,\n",
       "        -0.73447 ,   1.2148  ,  -0.9196  ,  -0.065012,   2.088   ,\n",
       "         0.57002 ,   3.5746  ,   1.7192  ,  -8.335   ,   0.71079 ,\n",
       "         0.91314 ,  -5.0107  ,   1.899   ,  -4.4658  ,   4.7993  ,\n",
       "        -0.39899 ,  -2.673   ,  -2.9354  ,   4.304   ,   1.4336  ,\n",
       "         3.7121  ,   0.34882 ,   4.6512  ,  -4.5731  ,  -4.5665  ,\n",
       "         1.5988  ,  -0.50383 ,   0.95857 ,   0.68728 ,  -0.39976 ,\n",
       "        -3.1922  ,   4.4363  ,  -0.69479 ,  -1.9528  ,   4.9376  ,\n",
       "         2.7259  ,   2.2485  ,   5.5734  ,   2.5842  ,   4.7836  ,\n",
       "        -1.0274  ,   2.2703  ,  -2.0696  ,  -1.0642  ,  -4.932   ,\n",
       "        -2.274   ,   4.1409  ,   0.73313 ,   2.1889  ,  -0.098888,\n",
       "         1.6472  ,  -2.3985  ,   2.5911  ,   3.6026  ,   1.885   ,\n",
       "         5.7822  ,  -1.4481  ,   1.8914  , -10.044   ,  -5.7452  ,\n",
       "        -4.3224  ,  -3.854   ,   2.3084  ,  -0.84018 ,  -0.40526 ,\n",
       "         4.7741  ,  -2.3271  ,   7.064   ,   0.95753 ,  -2.356   ,\n",
       "         0.83953 ,   0.40004 ,   0.33743 ,   0.8376  ,   3.9285  ,\n",
       "         0.05955 ,   2.4422  ,   4.3492  ,   3.9861  ,   2.1043  ,\n",
       "        -1.0197  ,  -0.61752 ,  -0.42999 ,  -0.1014  ,  -5.9571  ,\n",
       "        -0.53818 ,  -1.7797  ,   1.7446  ,   2.3934  ,  -0.50263 ,\n",
       "        -1.6222  ,  -0.37372 ,  -6.8938  ,   0.55018 ,  -2.267   ,\n",
       "         0.64912 ,   3.1525  ,  -2.2541  ,  -4.0384  ,   3.206   ,\n",
       "         0.14962 ,  -2.6662  ,   0.18167 ,   5.0028  ,   2.1521  ,\n",
       "         0.92419 ,   5.4163  ,  -2.2408  ,   1.6585  ,  -5.1625  ,\n",
       "         5.029   ,   0.1026  ,  -0.44542 ,   2.0557  ,   3.7778  ,\n",
       "         3.8679  ,  -2.7135  ,   5.3242  ,  -3.2916  ,   5.6421  ,\n",
       "         5.0466  ,   1.6072  ,  -1.3206  ,   4.2044  ,  -0.33793 ,\n",
       "        -3.1139  ,   2.8841  ,  -3.1565  ,  -2.9832  ,  -0.23235 ,\n",
       "         2.3259  ,   3.5477  ,  -2.1299  ,  -1.8344  ,   2.7271  ,\n",
       "         1.5568  ,   5.6865  ,   0.9412  ,  -2.6412  ,  -5.3254  ,\n",
       "         1.3494  ,  -0.47159 ,   2.4979  ,  -1.5568  ,  -1.6911  ,\n",
       "        -2.1842  ,   6.0319  ,   0.022573,   2.3824  ,  -1.1002  ,\n",
       "         0.90216 ,  -1.9113  ,   1.5527  ,   5.7413  ,  -3.1956  ,\n",
       "         0.68655 ,  -1.6068  ,   1.7404  ,  -3.2142  ,   6.4783  ,\n",
       "         1.7548  ,  -2.9795  ,   0.97631 ,  -0.018354,  -0.6379  ,\n",
       "         0.80559 ,   3.1923  ,   3.3335  ,   4.3068  ,  -1.0819  ,\n",
       "        -1.3839  ,  -4.7626  ,  -4.6637  ,  -1.2201  ,  -3.2741  ,\n",
       "         1.5204  ,   0.78119 ,   8.7339  ,   1.6009  ,  -0.79332 ,\n",
       "         5.8416  ,  -1.485   ,   1.5978  ,   2.9746  ,  -0.30759 ,\n",
       "        -1.8023  ,  -4.8344  ,   1.2817  ,  -2.5469  ,   2.6517  ,\n",
       "         1.4881  ,   2.1952  ,  -0.12652 ,   1.2223  ,   0.44763 ,\n",
       "        -3.1445  ,  -2.2051  ,  -4.1785  ,  -3.6539  ,   5.1929  ,\n",
       "         0.78457 ,  -1.2312  ,   5.5624  ,  -1.8462  ,   6.1262  ,\n",
       "        -1.6653  ,  -2.7557  ,  -0.066465,  -3.6362  ,   5.2005  ,\n",
       "        -1.2865  ,   2.8855  ,   6.1219  ,   1.7824  ,   1.4264  ,\n",
       "        10.628   ,  -0.36028 ,   1.9268  ,  -7.835   ,   0.57865 ],\n",
       "      dtype=float32)"
      ]
     },
     "execution_count": 1,
     "metadata": {},
     "output_type": "execute_result"
    }
   ],
   "source": [
    "#we have to use spacy embedded word vectors, the small model doesn't contain word vectors\n",
    "import spacy\n",
    "nlp= spacy.load('en_core_web_lg')\n",
    "nlp(u'lion').vector #will print a vectors for the word lion"
   ]
  },
  {
   "cell_type": "code",
   "execution_count": 2,
   "metadata": {},
   "outputs": [
    {
     "data": {
      "text/plain": [
       "array([-2.0963445 ,  3.1478603 , -4.026431  ,  0.18799962,  3.0217922 ,\n",
       "       -0.81836665, -0.23268168,  3.379449  ,  1.8528315 ,  0.98227364,\n",
       "        6.8238606 ,  2.5775054 , -1.932785  , -0.83819884,  3.0662131 ,\n",
       "       -0.28882104,  2.365316  ,  0.16479887,  0.7192789 ,  0.23712094,\n",
       "        0.47869888,  1.1155534 , -0.31480443, -1.7490444 ,  1.3065993 ,\n",
       "       -2.0616498 , -4.0919814 , -1.70963   ,  0.04291116,  0.11381115,\n",
       "       -1.3997625 , -0.41237673,  1.4471135 , -0.8094456 , -1.1143432 ,\n",
       "       -2.4969068 ,  1.4495867 , -0.6378867 ,  5.0790224 , -3.0803456 ,\n",
       "       -0.14456667, -0.9488199 ,  3.2369456 , -0.8474011 ,  0.45137227,\n",
       "       -0.31906378,  0.58768225, -1.9120687 , -1.8271345 ,  1.1791145 ,\n",
       "        1.1146156 ,  2.7400522 ,  0.95190006, -0.73420775, -1.379021  ,\n",
       "       -0.25003672,  2.4629102 ,  0.95856667,  0.47657108, -0.81721866,\n",
       "        0.47450364, -1.5174489 ,  0.3691578 ,  0.05139445, -3.3208878 ,\n",
       "       -0.63805556, -3.1304102 , -3.5538244 ,  0.7286822 ,  0.6742556 ,\n",
       "        1.6414151 ,  0.28227895, -0.31708992,  0.4309331 ,  0.08009664,\n",
       "        0.4299334 , -1.5233428 ,  2.6213279 , -1.1009479 , -3.6720438 ,\n",
       "       -6.08525   , -2.2708533 ,  1.7201339 ,  0.22349998,  0.5871334 ,\n",
       "       -1.7131089 ,  2.5371802 ,  1.2853771 ,  0.6319941 , -2.077441  ,\n",
       "       -0.4325899 , -2.4281187 ,  2.7837334 , -2.8663337 ,  0.9408561 ,\n",
       "       -0.8372222 ,  0.9151144 ,  1.222051  ,  1.4992566 , -2.7102568 ,\n",
       "       -0.64150196,  0.5712156 ,  3.308032  ,  3.1200821 ,  0.3880121 ,\n",
       "        4.1420155 , -2.0932798 ,  0.92612433, -3.797262  ,  0.6231878 ,\n",
       "       -1.5215048 ,  1.1835521 , -0.05842389,  2.8147569 ,  1.1100622 ,\n",
       "        0.0342644 , -0.8105245 , -0.67055917,  4.277599  ,  0.37104785,\n",
       "        0.29024562, -0.730519  , -4.5090885 ,  4.072958  , -1.9882554 ,\n",
       "       -4.278674  , -0.27662557,  0.33648777,  5.4696555 , -0.91502446,\n",
       "       -2.1653757 , -1.2475356 ,  4.934519  , -3.3001182 ,  0.4232    ,\n",
       "        1.6447222 ,  1.1803967 , -2.7199001 ,  1.7146323 , -1.0325733 ,\n",
       "       -3.7235842 ,  0.38699448,  0.85607564,  1.2804832 , -1.6141621 ,\n",
       "        1.6199489 ,  0.06250338,  1.56067   ,  0.95682335,  2.9986331 ,\n",
       "        0.5434156 ,  4.93866   ,  0.7576929 ,  0.9897601 ,  1.0271807 ,\n",
       "        0.02175199,  4.795157  ,  1.4976777 ,  1.2271303 ,  0.83489007,\n",
       "       -1.5056655 , -3.348221  ,  2.134199  , -0.0822655 , -2.0124354 ,\n",
       "       -1.5026    , -3.3740547 ,  3.2040164 ,  0.73350954,  1.4727979 ,\n",
       "        2.8383098 ,  1.28865   ,  2.061688  ,  3.065978  , -0.02872663,\n",
       "       -1.2839833 , -1.0045676 , -3.5442255 , -2.4793622 , -1.3401489 ,\n",
       "       -0.83950335,  0.81517893, -0.27543664, -2.9786997 , -1.5790222 ,\n",
       "        1.1599833 , -2.600362  , -2.3851333 , -1.0783987 ,  0.21769339,\n",
       "       -0.03717666,  3.0805423 , -3.175419  , -3.4832366 ,  1.3600811 ,\n",
       "       -0.7560166 , -2.3559332 , -2.48386   , -1.1703844 , -0.6308111 ,\n",
       "       -1.6892844 , -1.0251155 , -3.2185833 , -3.2175124 , -0.6338978 ,\n",
       "        1.4775246 , -2.2090354 ,  0.64528996, -1.2397777 , -0.49864113,\n",
       "        1.7797778 ,  2.1249454 , -0.45415223,  0.70366174,  1.6301444 ,\n",
       "        0.67281115,  2.489418  , -1.45634   , -4.24761   , -0.05024242,\n",
       "       -2.2946577 , -1.13904   , -0.7548911 ,  1.9729334 ,  0.67525333,\n",
       "       -2.1931868 ,  1.2294855 , -0.6613545 ,  5.648638  ,  0.23713334,\n",
       "        0.9871717 , -5.672984  ,  1.1607044 ,  2.8054554 , -0.8795111 ,\n",
       "        1.069267  , -1.1165832 ,  2.5204623 , -0.1618582 ,  1.2762545 ,\n",
       "        2.793031  ,  0.13362451,  2.8424978 ,  1.52133   , -2.0954046 ,\n",
       "        0.68642217, -1.4638419 ,  0.8554211 , -1.9649378 ,  0.29538888,\n",
       "       -0.9581445 ,  1.2740644 , -5.4598465 , -1.6254766 , -3.8576024 ,\n",
       "       -0.223706  ,  0.6419666 ,  6.387645  , -0.76505446,  0.35670108,\n",
       "        2.732461  ,  0.42741892,  1.1238658 ,  2.5680044 , -1.761821  ,\n",
       "       -2.0313418 , -2.0267255 , -0.9711789 , -1.8264967 ,  1.6622956 ,\n",
       "        3.856328  ,  0.45963225,  0.54852664, -1.583258  ,  0.6766188 ,\n",
       "       -0.44561   ,  1.4596056 ,  1.0100112 , -2.3419557 , -1.0260469 ,\n",
       "       -0.21917292, -1.2116199 , -1.9675231 , -0.3141889 ,  4.6118135 ,\n",
       "       -0.74051213, -1.3860422 , -0.21223767, -3.1573274 ,  1.7285068 ,\n",
       "       -1.8191926 ,  1.0432811 ,  2.332142  ,  0.41292456, -1.2498922 ,\n",
       "        3.2740633 ,  1.0243391 ,  2.9104855 , -5.415085  ,  1.8640323 ],\n",
       "      dtype=float32)"
      ]
     },
     "execution_count": 2,
     "metadata": {},
     "output_type": "execute_result"
    }
   ],
   "source": [
    "nlp(u'a quick brown fox jumps over a lazy dog').vector\n",
    "#will also print word vectors for this sentence but they're mean of the word vectors of individual words"
   ]
  },
  {
   "cell_type": "code",
   "execution_count": 3,
   "metadata": {},
   "outputs": [
    {
     "name": "stdout",
     "output_type": "stream",
     "text": [
      "lion lion 1.0\n",
      "lion cat 0.3854507803916931\n",
      "lion pet 0.20031584799289703\n",
      "cat lion 0.3854507803916931\n",
      "cat cat 1.0\n",
      "cat pet 0.732966423034668\n",
      "pet lion 0.20031584799289703\n",
      "pet cat 0.732966423034668\n",
      "pet pet 1.0\n"
     ]
    }
   ],
   "source": [
    "#to identify similar vectors we can use .similarity() function\n",
    "tokens=nlp('lion cat pet')\n",
    "for token1 in tokens:\n",
    "    for token2 in tokens:\n",
    "        print(token1,token2, token1.similarity(token2))"
   ]
  },
  {
   "cell_type": "code",
   "execution_count": 26,
   "metadata": {},
   "outputs": [
    {
     "name": "stdout",
     "output_type": "stream",
     "text": [
      "['king', 'woman', 'cause', 'ought', 'somethin', 'lion', 'space', 'nothin', 'brown', 'need']\n"
     ]
    }
   ],
   "source": [
    "# we have .has_vector, .vector_norm, and .is_oov methods available for finding out if a word has vectors, what is its normal and if its out of vocabulary\n",
    "\n",
    "#vector arithmetic: you can create a new vector by adding/subtracting other vectors\n",
    "# eg: king-man + woman --> should give us queen\n",
    "\n",
    "from scipy import spatial\n",
    "\n",
    "cosine_similarity = lambda vec1, vec2: 1- spatial.distance.cosine(vec1, vec2)\n",
    "king= nlp.vocab['king'].vector\n",
    "man= nlp.vocab['man'].vector\n",
    "woman= nlp.vocab['woman'].vector\n",
    "\n",
    "new_vector = king-man +woman\n",
    "computed_similarities =[]\n",
    "\n",
    "for word in nlp.vocab:\n",
    "    if word.has_vector:\n",
    "        if word.is_lower:\n",
    "            if not word.is_stop:\n",
    "                if word.is_alpha:\n",
    "                    similarity= cosine_similarity(new_vector, word.vector)\n",
    "                    computed_similarities.append((word.text, similarity))\n",
    "\n",
    "\n",
    "computed_similarities= sorted(computed_similarities, key=lambda x: -x[1])\n",
    "print([t[0] for t in computed_similarities[:10]])"
   ]
  },
  {
   "cell_type": "code",
   "execution_count": 27,
   "metadata": {},
   "outputs": [
    {
     "name": "stderr",
     "output_type": "stream",
     "text": [
      "[nltk_data] Downloading package vader_lexicon to\n",
      "[nltk_data]     C:\\Users\\dell\\AppData\\Roaming\\nltk_data...\n"
     ]
    },
    {
     "data": {
      "text/plain": [
       "{'neg': 0.0, 'neu': 0.491, 'pos': 0.509, 'compound': 0.8519}"
      ]
     },
     "execution_count": 27,
     "metadata": {},
     "output_type": "execute_result"
    }
   ],
   "source": [
    "#sentiment analysis: to discern sentiment imprompto , with unlabelled data\n",
    "#we'll use VADER(Valence Aware Deictonary for sEntiment Reasoning) for such unlabelled sentiment analysis\n",
    "#VADER is available in NLTK, and it's smart enough to understand 'didn't love' and 'LOVE!!!' meaning and intensity\n",
    "\n",
    "import nltk\n",
    "nltk.download('vader_lexicon')\n",
    "from nltk.sentiment.vader import SentimentIntensityAnalyzer\n",
    "\n",
    "sid= SentimentIntensityAnalyzer()\n",
    "\n",
    "a= 'This is an awesome movie. Best so far I have watched'\n",
    "sid.polarity_scores(a)"
   ]
  },
  {
   "cell_type": "code",
   "execution_count": 28,
   "metadata": {},
   "outputs": [
    {
     "data": {
      "text/plain": [
       "{'neg': 0.339, 'neu': 0.661, 'pos': 0.0, 'compound': -0.6249}"
      ]
     },
     "execution_count": 28,
     "metadata": {},
     "output_type": "execute_result"
    }
   ],
   "source": [
    "b='this was one the worst movies I have ever watched'\n",
    "sid.polarity_scores(b)"
   ]
  },
  {
   "cell_type": "code",
   "execution_count": 29,
   "metadata": {},
   "outputs": [
    {
     "data": {
      "text/html": [
       "<div>\n",
       "<style scoped>\n",
       "    .dataframe tbody tr th:only-of-type {\n",
       "        vertical-align: middle;\n",
       "    }\n",
       "\n",
       "    .dataframe tbody tr th {\n",
       "        vertical-align: top;\n",
       "    }\n",
       "\n",
       "    .dataframe thead th {\n",
       "        text-align: right;\n",
       "    }\n",
       "</style>\n",
       "<table border=\"1\" class=\"dataframe\">\n",
       "  <thead>\n",
       "    <tr style=\"text-align: right;\">\n",
       "      <th></th>\n",
       "      <th>label</th>\n",
       "      <th>review</th>\n",
       "    </tr>\n",
       "  </thead>\n",
       "  <tbody>\n",
       "    <tr>\n",
       "      <th>0</th>\n",
       "      <td>pos</td>\n",
       "      <td>Stuning even for the non-gamer: This sound tra...</td>\n",
       "    </tr>\n",
       "    <tr>\n",
       "      <th>1</th>\n",
       "      <td>pos</td>\n",
       "      <td>The best soundtrack ever to anything.: I'm rea...</td>\n",
       "    </tr>\n",
       "    <tr>\n",
       "      <th>2</th>\n",
       "      <td>pos</td>\n",
       "      <td>Amazing!: This soundtrack is my favorite music...</td>\n",
       "    </tr>\n",
       "    <tr>\n",
       "      <th>3</th>\n",
       "      <td>pos</td>\n",
       "      <td>Excellent Soundtrack: I truly like this soundt...</td>\n",
       "    </tr>\n",
       "    <tr>\n",
       "      <th>4</th>\n",
       "      <td>pos</td>\n",
       "      <td>Remember, Pull Your Jaw Off The Floor After He...</td>\n",
       "    </tr>\n",
       "  </tbody>\n",
       "</table>\n",
       "</div>"
      ],
      "text/plain": [
       "  label                                             review\n",
       "0   pos  Stuning even for the non-gamer: This sound tra...\n",
       "1   pos  The best soundtrack ever to anything.: I'm rea...\n",
       "2   pos  Amazing!: This soundtrack is my favorite music...\n",
       "3   pos  Excellent Soundtrack: I truly like this soundt...\n",
       "4   pos  Remember, Pull Your Jaw Off The Floor After He..."
      ]
     },
     "execution_count": 29,
     "metadata": {},
     "output_type": "execute_result"
    }
   ],
   "source": [
    "#now we are going to use VADER for analyzing the sentiment in the amazon reviews\n",
    "import pandas as pd\n",
    "df= pd.read_csv('./amazonreviews.tsv', sep='\\t')\n",
    "df.head()"
   ]
  },
  {
   "cell_type": "code",
   "execution_count": 30,
   "metadata": {},
   "outputs": [
    {
     "data": {
      "text/plain": [
       "label     0\n",
       "review    0\n",
       "dtype: int64"
      ]
     },
     "execution_count": 30,
     "metadata": {},
     "output_type": "execute_result"
    }
   ],
   "source": [
    "df.isna().sum()"
   ]
  },
  {
   "cell_type": "code",
   "execution_count": 31,
   "metadata": {},
   "outputs": [],
   "source": [
    "#cleaning data:\n",
    "blanks =[]\n",
    "for i,lb, rv in df.itertuples():\n",
    "    if type(rv)== str:\n",
    "        if rv.isspace():\n",
    "                blanks.append(i)\n",
    "\n",
    "\n",
    "df.drop(blanks, inplace=True)"
   ]
  },
  {
   "cell_type": "code",
   "execution_count": 32,
   "metadata": {},
   "outputs": [
    {
     "data": {
      "text/html": [
       "<div>\n",
       "<style scoped>\n",
       "    .dataframe tbody tr th:only-of-type {\n",
       "        vertical-align: middle;\n",
       "    }\n",
       "\n",
       "    .dataframe tbody tr th {\n",
       "        vertical-align: top;\n",
       "    }\n",
       "\n",
       "    .dataframe thead th {\n",
       "        text-align: right;\n",
       "    }\n",
       "</style>\n",
       "<table border=\"1\" class=\"dataframe\">\n",
       "  <thead>\n",
       "    <tr style=\"text-align: right;\">\n",
       "      <th></th>\n",
       "      <th>label</th>\n",
       "      <th>review</th>\n",
       "      <th>scores</th>\n",
       "      <th>compound</th>\n",
       "    </tr>\n",
       "  </thead>\n",
       "  <tbody>\n",
       "    <tr>\n",
       "      <th>0</th>\n",
       "      <td>pos</td>\n",
       "      <td>Stuning even for the non-gamer: This sound tra...</td>\n",
       "      <td>{'neg': 0.088, 'neu': 0.669, 'pos': 0.243, 'co...</td>\n",
       "      <td>0.9454</td>\n",
       "    </tr>\n",
       "    <tr>\n",
       "      <th>1</th>\n",
       "      <td>pos</td>\n",
       "      <td>The best soundtrack ever to anything.: I'm rea...</td>\n",
       "      <td>{'neg': 0.018, 'neu': 0.837, 'pos': 0.145, 'co...</td>\n",
       "      <td>0.8957</td>\n",
       "    </tr>\n",
       "    <tr>\n",
       "      <th>2</th>\n",
       "      <td>pos</td>\n",
       "      <td>Amazing!: This soundtrack is my favorite music...</td>\n",
       "      <td>{'neg': 0.04, 'neu': 0.692, 'pos': 0.268, 'com...</td>\n",
       "      <td>0.9858</td>\n",
       "    </tr>\n",
       "    <tr>\n",
       "      <th>3</th>\n",
       "      <td>pos</td>\n",
       "      <td>Excellent Soundtrack: I truly like this soundt...</td>\n",
       "      <td>{'neg': 0.09, 'neu': 0.615, 'pos': 0.295, 'com...</td>\n",
       "      <td>0.9814</td>\n",
       "    </tr>\n",
       "    <tr>\n",
       "      <th>4</th>\n",
       "      <td>pos</td>\n",
       "      <td>Remember, Pull Your Jaw Off The Floor After He...</td>\n",
       "      <td>{'neg': 0.0, 'neu': 0.746, 'pos': 0.254, 'comp...</td>\n",
       "      <td>0.9781</td>\n",
       "    </tr>\n",
       "  </tbody>\n",
       "</table>\n",
       "</div>"
      ],
      "text/plain": [
       "  label                                             review  \\\n",
       "0   pos  Stuning even for the non-gamer: This sound tra...   \n",
       "1   pos  The best soundtrack ever to anything.: I'm rea...   \n",
       "2   pos  Amazing!: This soundtrack is my favorite music...   \n",
       "3   pos  Excellent Soundtrack: I truly like this soundt...   \n",
       "4   pos  Remember, Pull Your Jaw Off The Floor After He...   \n",
       "\n",
       "                                              scores  compound  \n",
       "0  {'neg': 0.088, 'neu': 0.669, 'pos': 0.243, 'co...    0.9454  \n",
       "1  {'neg': 0.018, 'neu': 0.837, 'pos': 0.145, 'co...    0.8957  \n",
       "2  {'neg': 0.04, 'neu': 0.692, 'pos': 0.268, 'com...    0.9858  \n",
       "3  {'neg': 0.09, 'neu': 0.615, 'pos': 0.295, 'com...    0.9814  \n",
       "4  {'neg': 0.0, 'neu': 0.746, 'pos': 0.254, 'comp...    0.9781  "
      ]
     },
     "execution_count": 32,
     "metadata": {},
     "output_type": "execute_result"
    }
   ],
   "source": [
    "df['scores']= df['review'].apply(lambda x: sid.polarity_scores(x))\n",
    "df['compound']= df['review'].apply(lambda x:sid.polarity_scores(x)['compound'])\n",
    "df.head()"
   ]
  },
  {
   "cell_type": "code",
   "execution_count": 34,
   "metadata": {},
   "outputs": [],
   "source": [
    "df['comp_score']= df['compound'].apply(lambda x:'pos' if x>=0 else 'neg')"
   ]
  },
  {
   "cell_type": "code",
   "execution_count": 35,
   "metadata": {},
   "outputs": [
    {
     "data": {
      "text/html": [
       "<div>\n",
       "<style scoped>\n",
       "    .dataframe tbody tr th:only-of-type {\n",
       "        vertical-align: middle;\n",
       "    }\n",
       "\n",
       "    .dataframe tbody tr th {\n",
       "        vertical-align: top;\n",
       "    }\n",
       "\n",
       "    .dataframe thead th {\n",
       "        text-align: right;\n",
       "    }\n",
       "</style>\n",
       "<table border=\"1\" class=\"dataframe\">\n",
       "  <thead>\n",
       "    <tr style=\"text-align: right;\">\n",
       "      <th></th>\n",
       "      <th>label</th>\n",
       "      <th>review</th>\n",
       "      <th>scores</th>\n",
       "      <th>compound</th>\n",
       "      <th>comp_score</th>\n",
       "    </tr>\n",
       "  </thead>\n",
       "  <tbody>\n",
       "    <tr>\n",
       "      <th>0</th>\n",
       "      <td>pos</td>\n",
       "      <td>Stuning even for the non-gamer: This sound tra...</td>\n",
       "      <td>{'neg': 0.088, 'neu': 0.669, 'pos': 0.243, 'co...</td>\n",
       "      <td>0.9454</td>\n",
       "      <td>pos</td>\n",
       "    </tr>\n",
       "    <tr>\n",
       "      <th>1</th>\n",
       "      <td>pos</td>\n",
       "      <td>The best soundtrack ever to anything.: I'm rea...</td>\n",
       "      <td>{'neg': 0.018, 'neu': 0.837, 'pos': 0.145, 'co...</td>\n",
       "      <td>0.8957</td>\n",
       "      <td>pos</td>\n",
       "    </tr>\n",
       "    <tr>\n",
       "      <th>2</th>\n",
       "      <td>pos</td>\n",
       "      <td>Amazing!: This soundtrack is my favorite music...</td>\n",
       "      <td>{'neg': 0.04, 'neu': 0.692, 'pos': 0.268, 'com...</td>\n",
       "      <td>0.9858</td>\n",
       "      <td>pos</td>\n",
       "    </tr>\n",
       "    <tr>\n",
       "      <th>3</th>\n",
       "      <td>pos</td>\n",
       "      <td>Excellent Soundtrack: I truly like this soundt...</td>\n",
       "      <td>{'neg': 0.09, 'neu': 0.615, 'pos': 0.295, 'com...</td>\n",
       "      <td>0.9814</td>\n",
       "      <td>pos</td>\n",
       "    </tr>\n",
       "    <tr>\n",
       "      <th>4</th>\n",
       "      <td>pos</td>\n",
       "      <td>Remember, Pull Your Jaw Off The Floor After He...</td>\n",
       "      <td>{'neg': 0.0, 'neu': 0.746, 'pos': 0.254, 'comp...</td>\n",
       "      <td>0.9781</td>\n",
       "      <td>pos</td>\n",
       "    </tr>\n",
       "  </tbody>\n",
       "</table>\n",
       "</div>"
      ],
      "text/plain": [
       "  label                                             review  \\\n",
       "0   pos  Stuning even for the non-gamer: This sound tra...   \n",
       "1   pos  The best soundtrack ever to anything.: I'm rea...   \n",
       "2   pos  Amazing!: This soundtrack is my favorite music...   \n",
       "3   pos  Excellent Soundtrack: I truly like this soundt...   \n",
       "4   pos  Remember, Pull Your Jaw Off The Floor After He...   \n",
       "\n",
       "                                              scores  compound comp_score  \n",
       "0  {'neg': 0.088, 'neu': 0.669, 'pos': 0.243, 'co...    0.9454        pos  \n",
       "1  {'neg': 0.018, 'neu': 0.837, 'pos': 0.145, 'co...    0.8957        pos  \n",
       "2  {'neg': 0.04, 'neu': 0.692, 'pos': 0.268, 'com...    0.9858        pos  \n",
       "3  {'neg': 0.09, 'neu': 0.615, 'pos': 0.295, 'com...    0.9814        pos  \n",
       "4  {'neg': 0.0, 'neu': 0.746, 'pos': 0.254, 'comp...    0.9781        pos  "
      ]
     },
     "execution_count": 35,
     "metadata": {},
     "output_type": "execute_result"
    }
   ],
   "source": [
    "df.head()"
   ]
  },
  {
   "cell_type": "code",
   "execution_count": 36,
   "metadata": {},
   "outputs": [
    {
     "name": "stdout",
     "output_type": "stream",
     "text": [
      "[[2629 2468]\n",
      " [ 435 4468]]\n",
      "              precision    recall  f1-score   support\n",
      "\n",
      "         neg       0.86      0.52      0.64      5097\n",
      "         pos       0.64      0.91      0.75      4903\n",
      "\n",
      "    accuracy                           0.71     10000\n",
      "   macro avg       0.75      0.71      0.70     10000\n",
      "weighted avg       0.75      0.71      0.70     10000\n",
      "\n",
      "0.7097\n"
     ]
    }
   ],
   "source": [
    "#to check the accuracy:\n",
    "from sklearn.metrics import classification_report,confusion_matrix, accuracy_score\n",
    "print(confusion_matrix(df['label'], df['comp_score']))\n",
    "print(classification_report(df['label'], df['comp_score']))\n",
    "print(accuracy_score(df['label'], df['comp_score']))"
   ]
  },
  {
   "cell_type": "code",
   "execution_count": null,
   "metadata": {},
   "outputs": [],
   "source": []
  }
 ],
 "metadata": {
  "kernelspec": {
   "display_name": "Python 3",
   "language": "python",
   "name": "python3"
  },
  "language_info": {
   "codemirror_mode": {
    "name": "ipython",
    "version": 3
   },
   "file_extension": ".py",
   "mimetype": "text/x-python",
   "name": "python",
   "nbconvert_exporter": "python",
   "pygments_lexer": "ipython3",
   "version": "3.10.7"
  },
  "orig_nbformat": 4,
  "vscode": {
   "interpreter": {
    "hash": "369f2c481f4da34e4445cda3fffd2e751bd1c4d706f27375911949ba6bb62e1c"
   }
  }
 },
 "nbformat": 4,
 "nbformat_minor": 2
}
